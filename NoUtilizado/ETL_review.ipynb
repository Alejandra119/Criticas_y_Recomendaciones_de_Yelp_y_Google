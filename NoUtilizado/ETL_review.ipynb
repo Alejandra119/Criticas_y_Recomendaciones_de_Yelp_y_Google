<<<<<<< HEAD
{"nbformat":4,"nbformat_minor":0,"metadata":{"colab":{"provenance":[],"mount_file_id":"1PQSopWqjSYkMmDVeQv40U8mfxNqEtj8k","authorship_tag":"ABX9TyOh89iQkafps+17XTmdh2bm"},"kernelspec":{"name":"python3","display_name":"Python 3"},"language_info":{"name":"python"}},"cells":[{"cell_type":"markdown","source":["#Codigos para el ETL del archivo review.json"],"metadata":{"id":"mAxQ5nSQ_UKc"}},{"cell_type":"code","execution_count":17,"metadata":{"id":"Oq2NNWzj_SAF","executionInfo":{"status":"ok","timestamp":1695943049353,"user_tz":240,"elapsed":195,"user":{"displayName":"Betzaida Loyo","userId":"11561215648091064361"}}},"outputs":[],"source":["import glob\n","import pandas as pd\n","import re"]},{"cell_type":"markdown","source":["Leer archivo"],"metadata":{"id":"atFjj8nqAMoi"}},{"cell_type":"code","source":["ruta_base = \"/content/drive/MyDrive/Colab Notebooks/review.parquet/part-00000-a00bd255-d442-4a0f-8e15-5c193fa441b1-c000.snappy.parquet\"\n","\n","df_review = pd.read_parquet(ruta_base)"],"metadata":{"id":"fYpuLXtJ_lOU","executionInfo":{"status":"ok","timestamp":1695942192972,"user_tz":240,"elapsed":5124,"user":{"displayName":"Betzaida Loyo","userId":"11561215648091064361"}}},"execution_count":5,"outputs":[]},{"cell_type":"markdown","source":["Filtrar la base de datos con las palabras que son afines al analisis"],"metadata":{"id":"qfpIjOR7CK5x"}},{"cell_type":"code","source":["palabras = [\"meat\", \"roast\", \"beef\", \"steak\"]\n","mascara = df_review['text'].str.contains('|'.join(palabras))\n","df_final = df_review[mascara]"],"metadata":{"id":"RZqMJxFQBlUk","executionInfo":{"status":"ok","timestamp":1695942326104,"user_tz":240,"elapsed":6012,"user":{"displayName":"Betzaida Loyo","userId":"11561215648091064361"}}},"execution_count":7,"outputs":[]},{"cell_type":"code","source":["df_final.info()"],"metadata":{"colab":{"base_uri":"https://localhost:8080/"},"id":"7Dpr5zECDK6_","executionInfo":{"status":"ok","timestamp":1695942501386,"user_tz":240,"elapsed":193,"user":{"displayName":"Betzaida Loyo","userId":"11561215648091064361"}},"outputId":"f4eab64a-3aa3-4ce3-cb31-e5b215866c10"},"execution_count":10,"outputs":[{"output_type":"stream","name":"stdout","text":["<class 'pandas.core.frame.DataFrame'>\n","Int64Index: 73953 entries, 3 to 699022\n","Data columns (total 9 columns):\n"," #   Column       Non-Null Count  Dtype  \n","---  ------       --------------  -----  \n"," 0   business_id  73953 non-null  object \n"," 1   cool         73953 non-null  int64  \n"," 2   date         73953 non-null  object \n"," 3   funny        73953 non-null  int64  \n"," 4   review_id    73953 non-null  object \n"," 5   stars        73953 non-null  float64\n"," 6   text         73953 non-null  object \n"," 7   useful       73953 non-null  int64  \n"," 8   user_id      73953 non-null  object \n","dtypes: float64(1), int64(3), object(5)\n","memory usage: 5.6+ MB\n"]}]},{"cell_type":"markdown","source":["Observar datos nulos y duplicados. En este caso no se encuentran ningún dato nulo ni duplicado."],"metadata":{"id":"lX16fMlKCoAm"}},{"cell_type":"code","source":["df_final.isna().sum()"],"metadata":{"colab":{"base_uri":"https://localhost:8080/"},"id":"J8qL8tF_Cm1X","executionInfo":{"status":"ok","timestamp":1695942357352,"user_tz":240,"elapsed":195,"user":{"displayName":"Betzaida Loyo","userId":"11561215648091064361"}},"outputId":"1ca51a6b-8309-49e1-af1a-f52599f8b690"},"execution_count":8,"outputs":[{"output_type":"execute_result","data":{"text/plain":["business_id    0\n","cool           0\n","date           0\n","funny          0\n","review_id      0\n","stars          0\n","text           0\n","useful         0\n","user_id        0\n","dtype: int64"]},"metadata":{},"execution_count":8}]},{"cell_type":"code","source":["duplicados = df_final[df_final.duplicated()]\n","\n","print(duplicados)"],"metadata":{"colab":{"base_uri":"https://localhost:8080/"},"id":"0AZRv0x-C_4V","executionInfo":{"status":"ok","timestamp":1695942445455,"user_tz":240,"elapsed":409,"user":{"displayName":"Betzaida Loyo","userId":"11561215648091064361"}},"outputId":"e9edbd2a-e532-4170-8bdf-5a5e764a7c5f"},"execution_count":9,"outputs":[{"output_type":"stream","name":"stdout","text":["Empty DataFrame\n","Columns: [business_id, cool, date, funny, review_id, stars, text, useful, user_id]\n","Index: []\n"]}]},{"cell_type":"markdown","source":["Se eliminan las columnas que no se utilizarán; \"cool\" y \"funny\""],"metadata":{"id":"iefyz9aIDUzj"}},{"cell_type":"code","source":["df_final = df_final.drop(['cool', 'funny'], axis=1)"],"metadata":{"id":"iok3E7yYDHC7","executionInfo":{"status":"ok","timestamp":1695942567393,"user_tz":240,"elapsed":168,"user":{"displayName":"Betzaida Loyo","userId":"11561215648091064361"}}},"execution_count":11,"outputs":[]},{"cell_type":"markdown","source":["Dejar solamente la fecha y eliminar la hora de la columna \"date\""],"metadata":{"id":"T5BusiC_Dk-2"}},{"cell_type":"code","source":["df_final['date'] = pd.to_datetime(df_final['date']) #Convertir a tipo de dato datetime\n","\n","# Extraer solo la parte de la fecha\n","df_final['date'] = df_final['date'].dt.date"],"metadata":{"id":"cyL2jEylDpPa","executionInfo":{"status":"ok","timestamp":1695942666164,"user_tz":240,"elapsed":170,"user":{"displayName":"Betzaida Loyo","userId":"11561215648091064361"}}},"execution_count":13,"outputs":[]},{"cell_type":"markdown","source":["Cambiar tipo de datos, a entero en la columna \"stars\" y a string en la columna \"text\". Aunque en el caso de la columna \"text\" ya estaba definido el tipo de dato string, se hace la conversión para prevenir posibles errores en las filas que puede dificultar al trabajar con ML."],"metadata":{"id":"A1-RPTyLD7Ft"}},{"cell_type":"code","source":["df_final['stars'] = df_final['stars'].astype(int)"],"metadata":{"id":"WhP8_9ZND2yw","executionInfo":{"status":"ok","timestamp":1695942727021,"user_tz":240,"elapsed":188,"user":{"displayName":"Betzaida Loyo","userId":"11561215648091064361"}}},"execution_count":14,"outputs":[]},{"cell_type":"code","source":["df_final['text'] = df_final['text'].astype(str)"],"metadata":{"id":"65HEpG8AEF7p","executionInfo":{"status":"ok","timestamp":1695942743513,"user_tz":240,"elapsed":242,"user":{"displayName":"Betzaida Loyo","userId":"11561215648091064361"}}},"execution_count":15,"outputs":[]},{"cell_type":"markdown","source":["Se crea la siguiente funcion para remover caracteres que no sean letras, con el fin de evitar errores futuros al trabajar con ML"],"metadata":{"id":"xDqF7m82FLo3"}},{"cell_type":"code","source":["def remover_caracteres(text):\n","    # Patrón de expresión regular para encontrar caracteres que no sean del alfabeto\n","    patron = r'[^a-zA-Z\\s]'  # Acepta letras minúsculas, letras mayúsculas y espacios en blanco\n","\n","    # Eliminar caracteres no deseados utilizando la función sub() de re (reemplaza coincidencias)\n","    limpieza_text = re.sub(patron, '', text)\n","\n","    return limpieza_text"],"metadata":{"id":"eNkoD-ZBFZdn","executionInfo":{"status":"ok","timestamp":1695943139010,"user_tz":240,"elapsed":173,"user":{"displayName":"Betzaida Loyo","userId":"11561215648091064361"}}},"execution_count":18,"outputs":[]},{"cell_type":"code","source":["df_final['text'] = df_final['text'].apply(remover_caracteres)\n","pd.set_option('display.max_colwidth', None)\n","df_final[\"text\"]"],"metadata":{"colab":{"base_uri":"https://localhost:8080/"},"id":"fDoBzduuFuJl","executionInfo":{"status":"ok","timestamp":1695943172166,"user_tz":240,"elapsed":1847,"user":{"displayName":"Betzaida Loyo","userId":"11561215648091064361"}},"outputId":"bf984477-1751-47e2-cc4a-27dbafeed6d5"},"execution_count":19,"outputs":[{"output_type":"execute_result","data":{"text/plain":["3                                                                                                                                 I agree with Victoria C  The atmosphere at Pub and Kitchen is really great  Large bar area with plenty of room outside tables inside tables and counter seating for a busy night  delightful atmosphere  This is one of the most pleasant spots in the Rittenhouse Square area  Lombard Street is a little busy but Pub and Kitchen has done a nice job protecting you from the noise yet they have kept up a cosy interior with open windows on Lombard  A rustic vibe which is very nice\\nService was excellent  Our waiter was very attentive but not overly so \\nThe menu is simple with a level of complexity that was surprisingrabbit meatballs unusual great double burger excellent flank steak with goat and potato puff balls sublime  So given all of this why only three stars  It is expensive for what you get  Cocktails were  wine  mains  plus plus and a really short menu no specialsother than beer  Two people two drinks apiece with tip  that is a lot given what we ordered  Not sure they are in the same league as a number of places nearby which will charge you less and they dont have a static menu  \\nI will go back again but Pub and Kitchen needs a menu redo and a more expansive one at that\n","5                                                                                                                                                                        This place is awesome  Low key casual and exactly the right vibe that I was looking for  Live music while you are eating good food and drinking good wine is perfect  This is what I want my back yard to be  We ended up with more bottles of wine than we should have and really enjoyed ourselves \\n\\nThe mussels were very tasty and well seasoned  \\n\\nI tried the patatas bravas which was very good  It made me miss Spain  The sauce that was served with it wasnt my favorite that Ive tried with this dish but it was pretty damn good  The shaved brussel sprouts was almost a slaw with apple fennel feta and pickled onions  Very light and bright tasting  It went well with some of the meat dishes that we ordered  \\n\\nThe braised pork shoulder was delicious  It was served with mushrooms lentils and sausage  This fatty pork had a deep flavor that I very much enjoyed  The grilled bavette steak was a bit of a surprise for me  I wasnt expecting that to be anywhere near as good as it was  maybe my favorite dish of the meal  \\n\\nThis place is all counter service  Find a table settle in enjoy the company that you brought and waste away a lazy afternoon\n","9                                                                                                                                                                                                                                                                                                                                                                                                                                                                                                                                                                                                                                                                                                                                                                                                                                                                                                                                                                                                                                                                                                                              I loved the old style building We got a cheese steak and it was really good they also have good fries Service was fine and the place was not crowded This is a good alternative to a chain where you can get good American style food\n","22                                                                                                                                                                                                                                                                                                                                                                                                                                                                                                                                                                                                                                                                                                                                                                                                                                                                                                                                                                                         Dinner last week with another couple consisted of steaks scallops salads and a terrific pinot noir Views of the surrounding area are gorgeous outdoor terrace is spectacular and the bar downstairs has a welcoming and cool vibe Service was forgetful and unpolished which we were told by the locals was rare Had they nailed that this would have been a  star review\n","24        Todays lunch was the reason I started yelping I went on Thursday because I like veal and a yelper said that would be the special My lunch cost  including tax and ice tea The bread was hot and fresh and they must put something in the butter because it was real good The crawfish bisque came highly recommended and it was a good idea A little seafoody if you know what I mean but since it was seafood I guess that was right The veal was unbelievable It fell apart and was just fatty enough to make it perfect It came on a bed of home made pasta that was great and with roasted green beans and small carrots The lunch special entree and soup was  and I think the dinner special was  for entree soup and desert Check their website link in another yelp review for daily specials Such a great meal that Im planning on bringing my wife to NOLA in the near future for a few days and this meal made me decide to do it soon Setting was great atmosphere was superb service was exceptional food was five star  without a doubt Ive given a few  stars for atmosphere and unique food  but this is a REAL five star restaurant with a three star price From Canal its one block from Bourbon and about two blocks off Canal Lunch portion was huge  I cant even imagine the dinner portions Im coming back every time I come to NOLA\n","                                                                                                                                                                                                                                                                                                                                                                                                                                                                                                                                                                                                                                                                                     ...                                                                                                                                                                                                                                                                                                                                                                                                                                                                                                                                                                                                                                                                            \n","698993                                                                                                                                                                                                                                                                                                                                                                                                                                                                                                                           A high priced place in a low price area\\n\\nIve been curious about coming here so i stopped in for the happy hour They have a small happy hour menu but the drink prices are crap  beers cool but you only have  on tap And they are not the usual beers either yuengling blue moon port orleans lager and dixie very weak the WELL drinks are  Why would i pay for well  when i can go down the street  min and get top shelf for that\\n\\nThe regular menu is way over priced so i didnt get anything They dont even have the sizes on the steaks just the price We got the chargrilled  oysters they were very tiny but in big shells kinda think they reuse the shells of the bigger ones but i cant prove that \\n\\nOver all Ill never come back here no reason to waste my time or money on an over priced under achieving place\n","698998                                                                                                                                                                                                                                                                                                                                                                                                                                                                                                                                                                                                                                                                                                                                                                                                                                                                                                                                                                                                                                                                    Loved this little discovery Reasonably priced friendly service and exceptionally unique and delicious Off the beaten path but worth the drivetry the cheesy quesadilla filled with cheese and birria beef on a homemade tort with dipping juice Think cheesy beef dip on a tortillaamazing\n","699005                                                                                                                                                                                                                                                                                                                                                                         The star is for the serviceexcellent That said my mother and I were so excited to try out this closer location and naturally assumed the food quality would be equal to the alwaysimpeccable level of  the Tampa location The crab Rangoon app always amazing was at this location just flat They were half the size lukewarm and lacked the creamy cheese center As for entrees my mothers meatloaf did not come as advertised with crisp onions as shes enjoyed at other locations It was over cooked and dryyyy too My parmcrusted chicken with pasta was best described as an oddtasting piece of cardboard the only saving grace being the perfectlycooked al dente pasta Luckily there was a sizable amount to fill me up as the chicken was essentially inedible We come from a restaurant background and I detest complaining in person But this experience was a true disappointment I hope they figure things out and become the neighborhood gem we so happily anticipated\n","699007                                                                                                        This is where my wifes family ate when she lived in Marlton NJ during her late high school years Now that she is living in the South Jersey area again this is where we eat majority of our mexican cuisine It is not the best mexican food around but it is fresh and it is good My only advise keep it simple Overall I have been ok with the food The only time I left there truly disappointed is when I ordered the tuna tacos Yeah Yeah I know why the hell did I do that in the first place\\n\\nWe dined here for the first time in a long time last Friday on the th Our waitress Brandi was the best waitress we had as long as weve been dining there Dont get me wrong the service is friendly most of the time but Brandi was outstanding \\n\\nI was satisfied with the Baja fish tacos I ordered It clearly made up for the time I ordered the tuna tacos The Quesada we ordered for an appetizer was filled with plenty of chicken and the perfect amount of cheese My wife had the beef tacos and like always she enjoyed them You really cant go wrong with here with majority of things on the menu A fellow Yelper put me on to a few more mexican restaurants in the area but its good to have Mexican Food Factory in my back pocket\n","699022                                                                                                                                                                                                                                                                                                                                                                                                                                                                                                                                                                                                                                                                                                                                                                                                                                                                                                               When you and your partner are craving for different things then this is the place to go He can get his tacos and you can get your Chinese food cravings and then share Tacos were delicious and the red and green sauce not pictured are perfect on the tacos Cant wait to return to try the other meats I was surprised to see orange slices in the orange chicken special Definitely made it even more special and would return back for more\n","Name: text, Length: 73953, dtype: object"]},"metadata":{},"execution_count":19}]},{"cell_type":"code","source":[],"metadata":{"id":"Ej49rr2jHACF"},"execution_count":null,"outputs":[]}]}
=======
{
  "cells": [
    {
      "cell_type": "markdown",
      "metadata": {
        "id": "mAxQ5nSQ_UKc"
      },
      "source": [
        "# Codigos para el ETL del archivo review.json"
      ]
    },
    {
      "cell_type": "code",
      "execution_count": 1,
      "metadata": {
        "id": "Oq2NNWzj_SAF"
      },
      "outputs": [],
      "source": [
        "import glob\n",
        "import pandas as pd\n",
        "import re"
      ]
    },
    {
      "cell_type": "markdown",
      "metadata": {
        "id": "atFjj8nqAMoi"
      },
      "source": [
        "Leer archivo"
      ]
    },
    {
      "cell_type": "code",
      "execution_count": 2,
      "metadata": {
        "id": "fYpuLXtJ_lOU"
      },
      "outputs": [],
      "source": [
        "ruta_base = \"/content/drive/MyDrive/Colab Notebooks/review.parquet/part-00000-a00bd255-d442-4a0f-8e15-5c193fa441b1-c000.snappy.parquet\"\n",
        "\n",
        "df_review = pd.read_parquet(ruta_base)"
      ]
    },
    {
      "cell_type": "markdown",
      "metadata": {
        "id": "qfpIjOR7CK5x"
      },
      "source": [
        "Filtrar la base de datos con las palabras que son afines al analisis"
      ]
    },
    {
      "cell_type": "code",
      "execution_count": null,
      "metadata": {
        "id": "RZqMJxFQBlUk"
      },
      "outputs": [],
      "source": [
        "palabras = [\"meat\", \"roast\", \"beef\", \"steak\"]\n",
        "mascara = df_review['text'].str.contains('|'.join(palabras))\n",
        "df_final = df_review[mascara]"
      ]
    },
    {
      "cell_type": "markdown",
      "metadata": {
        "id": "lX16fMlKCoAm"
      },
      "source": [
        "Observar datos nulos y duplicados. En este caso no se encuentran ningún dato nulo ni duplicado."
      ]
    },
    {
      "cell_type": "code",
      "execution_count": null,
      "metadata": {
        "colab": {
          "base_uri": "https://localhost:8080/"
        },
        "id": "J8qL8tF_Cm1X",
        "outputId": "1ca51a6b-8309-49e1-af1a-f52599f8b690"
      },
      "outputs": [
        {
          "data": {
            "text/plain": [
              "business_id    0\n",
              "cool           0\n",
              "date           0\n",
              "funny          0\n",
              "review_id      0\n",
              "stars          0\n",
              "text           0\n",
              "useful         0\n",
              "user_id        0\n",
              "dtype: int64"
            ]
          },
          "execution_count": 8,
          "metadata": {},
          "output_type": "execute_result"
        }
      ],
      "source": [
        "df_final.isna().sum()"
      ]
    },
    {
      "cell_type": "code",
      "execution_count": null,
      "metadata": {
        "colab": {
          "base_uri": "https://localhost:8080/"
        },
        "id": "0AZRv0x-C_4V",
        "outputId": "e9edbd2a-e532-4170-8bdf-5a5e764a7c5f"
      },
      "outputs": [
        {
          "name": "stdout",
          "output_type": "stream",
          "text": [
            "Empty DataFrame\n",
            "Columns: [business_id, cool, date, funny, review_id, stars, text, useful, user_id]\n",
            "Index: []\n"
          ]
        }
      ],
      "source": [
        "duplicados = df_final[df_final.duplicated()]\n",
        "\n",
        "print(duplicados)"
      ]
    },
    {
      "cell_type": "markdown",
      "metadata": {
        "id": "iefyz9aIDUzj"
      },
      "source": [
        "Se eliminan las columnas que no se utilizarán; \"cool\" y \"funny\""
      ]
    },
    {
      "cell_type": "code",
      "execution_count": null,
      "metadata": {
        "id": "iok3E7yYDHC7"
      },
      "outputs": [],
      "source": [
        "df_final = df_final.drop(['cool', 'funny'], axis=1)"
      ]
    },
    {
      "cell_type": "markdown",
      "metadata": {
        "id": "T5BusiC_Dk-2"
      },
      "source": [
        "Dejar solamente la fecha y eliminar la hora de la columna \"date\""
      ]
    },
    {
      "cell_type": "code",
      "execution_count": null,
      "metadata": {
        "id": "cyL2jEylDpPa"
      },
      "outputs": [],
      "source": [
        "df_final['date'] = pd.to_datetime(df_final['date']) #Convertir a tipo de dato datetime\n",
        "\n",
        "# Extraer solo la parte de la fecha\n",
        "df_final['date'] = df_final['date'].dt.date"
      ]
    },
    {
      "cell_type": "markdown",
      "metadata": {
        "id": "A1-RPTyLD7Ft"
      },
      "source": [
        "Cambiar tipo de datos, a entero en la columna \"stars\" y a string en la columna \"text\". Aunque en el caso de la columna \"text\" ya estaba definido el tipo de dato string, se hace la conversión para prevenir posibles errores en las filas que puede dificultar al trabajar con ML."
      ]
    },
    {
      "cell_type": "code",
      "execution_count": null,
      "metadata": {
        "id": "WhP8_9ZND2yw"
      },
      "outputs": [],
      "source": [
        "df_final['stars'] = df_final['stars'].astype(int)"
      ]
    },
    {
      "cell_type": "code",
      "execution_count": null,
      "metadata": {
        "id": "65HEpG8AEF7p"
      },
      "outputs": [],
      "source": [
        "df_final['text'] = df_final['text'].astype(str)"
      ]
    },
    {
      "cell_type": "markdown",
      "metadata": {
        "id": "xDqF7m82FLo3"
      },
      "source": [
        "Se crea la siguiente funcion para remover caracteres que no sean letras, con el fin de evitar errores futuros al trabajar con ML"
      ]
    },
    {
      "cell_type": "code",
      "execution_count": 18,
      "metadata": {
        "id": "eNkoD-ZBFZdn"
      },
      "outputs": [],
      "source": [
        "def remover_caracteres(text):\n",
        "    # Patrón de expresión regular para encontrar caracteres que no sean del alfabeto\n",
        "    patron = r'[^a-zA-Z\\s]'  # Acepta letras minúsculas, letras mayúsculas y espacios en blanco\n",
        "\n",
        "    # Eliminar caracteres no deseados utilizando la función sub() de re (reemplaza coincidencias)\n",
        "    limpieza_text = re.sub(patron, '', text)\n",
        "\n",
        "    return limpieza_text\n"
      ]
    },
    {
      "cell_type": "code",
      "execution_count": 19,
      "metadata": {
        "id": "_jNLDzowMYA2"
      },
      "outputs": [],
      "source": [
        "df_final['text'] = df_final['text'].apply(remover_caracteres)"
      ]
    },
    {
      "cell_type": "code",
      "execution_count": null,
      "metadata": {
        "colab": {
          "base_uri": "https://localhost:8080/"
        },
        "id": "fDoBzduuFuJl",
        "outputId": "bf984477-1751-47e2-cc4a-27dbafeed6d5"
      },
      "outputs": [
        {
          "data": {
            "text/plain": [
              "3                                                                                                                                 I agree with Victoria C  The atmosphere at Pub and Kitchen is really great  Large bar area with plenty of room outside tables inside tables and counter seating for a busy night  delightful atmosphere  This is one of the most pleasant spots in the Rittenhouse Square area  Lombard Street is a little busy but Pub and Kitchen has done a nice job protecting you from the noise yet they have kept up a cosy interior with open windows on Lombard  A rustic vibe which is very nice\\nService was excellent  Our waiter was very attentive but not overly so \\nThe menu is simple with a level of complexity that was surprisingrabbit meatballs unusual great double burger excellent flank steak with goat and potato puff balls sublime  So given all of this why only three stars  It is expensive for what you get  Cocktails were  wine  mains  plus plus and a really short menu no specialsother than beer  Two people two drinks apiece with tip  that is a lot given what we ordered  Not sure they are in the same league as a number of places nearby which will charge you less and they dont have a static menu  \\nI will go back again but Pub and Kitchen needs a menu redo and a more expansive one at that\n",
              "5                                                                                                                                                                        This place is awesome  Low key casual and exactly the right vibe that I was looking for  Live music while you are eating good food and drinking good wine is perfect  This is what I want my back yard to be  We ended up with more bottles of wine than we should have and really enjoyed ourselves \\n\\nThe mussels were very tasty and well seasoned  \\n\\nI tried the patatas bravas which was very good  It made me miss Spain  The sauce that was served with it wasnt my favorite that Ive tried with this dish but it was pretty damn good  The shaved brussel sprouts was almost a slaw with apple fennel feta and pickled onions  Very light and bright tasting  It went well with some of the meat dishes that we ordered  \\n\\nThe braised pork shoulder was delicious  It was served with mushrooms lentils and sausage  This fatty pork had a deep flavor that I very much enjoyed  The grilled bavette steak was a bit of a surprise for me  I wasnt expecting that to be anywhere near as good as it was  maybe my favorite dish of the meal  \\n\\nThis place is all counter service  Find a table settle in enjoy the company that you brought and waste away a lazy afternoon\n",
              "9                                                                                                                                                                                                                                                                                                                                                                                                                                                                                                                                                                                                                                                                                                                                                                                                                                                                                                                                                                                                                                                                                                                              I loved the old style building We got a cheese steak and it was really good they also have good fries Service was fine and the place was not crowded This is a good alternative to a chain where you can get good American style food\n",
              "22                                                                                                                                                                                                                                                                                                                                                                                                                                                                                                                                                                                                                                                                                                                                                                                                                                                                                                                                                                                         Dinner last week with another couple consisted of steaks scallops salads and a terrific pinot noir Views of the surrounding area are gorgeous outdoor terrace is spectacular and the bar downstairs has a welcoming and cool vibe Service was forgetful and unpolished which we were told by the locals was rare Had they nailed that this would have been a  star review\n",
              "24        Todays lunch was the reason I started yelping I went on Thursday because I like veal and a yelper said that would be the special My lunch cost  including tax and ice tea The bread was hot and fresh and they must put something in the butter because it was real good The crawfish bisque came highly recommended and it was a good idea A little seafoody if you know what I mean but since it was seafood I guess that was right The veal was unbelievable It fell apart and was just fatty enough to make it perfect It came on a bed of home made pasta that was great and with roasted green beans and small carrots The lunch special entree and soup was  and I think the dinner special was  for entree soup and desert Check their website link in another yelp review for daily specials Such a great meal that Im planning on bringing my wife to NOLA in the near future for a few days and this meal made me decide to do it soon Setting was great atmosphere was superb service was exceptional food was five star  without a doubt Ive given a few  stars for atmosphere and unique food  but this is a REAL five star restaurant with a three star price From Canal its one block from Bourbon and about two blocks off Canal Lunch portion was huge  I cant even imagine the dinner portions Im coming back every time I come to NOLA\n",
              "                                                                                                                                                                                                                                                                                                                                                                                                                                                                                                                                                                                                                                                                                     ...                                                                                                                                                                                                                                                                                                                                                                                                                                                                                                                                                                                                                                                                            \n",
              "698993                                                                                                                                                                                                                                                                                                                                                                                                                                                                                                                           A high priced place in a low price area\\n\\nIve been curious about coming here so i stopped in for the happy hour They have a small happy hour menu but the drink prices are crap  beers cool but you only have  on tap And they are not the usual beers either yuengling blue moon port orleans lager and dixie very weak the WELL drinks are  Why would i pay for well  when i can go down the street  min and get top shelf for that\\n\\nThe regular menu is way over priced so i didnt get anything They dont even have the sizes on the steaks just the price We got the chargrilled  oysters they were very tiny but in big shells kinda think they reuse the shells of the bigger ones but i cant prove that \\n\\nOver all Ill never come back here no reason to waste my time or money on an over priced under achieving place\n",
              "698998                                                                                                                                                                                                                                                                                                                                                                                                                                                                                                                                                                                                                                                                                                                                                                                                                                                                                                                                                                                                                                                                    Loved this little discovery Reasonably priced friendly service and exceptionally unique and delicious Off the beaten path but worth the drivetry the cheesy quesadilla filled with cheese and birria beef on a homemade tort with dipping juice Think cheesy beef dip on a tortillaamazing\n",
              "699005                                                                                                                                                                                                                                                                                                                                                                         The star is for the serviceexcellent That said my mother and I were so excited to try out this closer location and naturally assumed the food quality would be equal to the alwaysimpeccable level of  the Tampa location The crab Rangoon app always amazing was at this location just flat They were half the size lukewarm and lacked the creamy cheese center As for entrees my mothers meatloaf did not come as advertised with crisp onions as shes enjoyed at other locations It was over cooked and dryyyy too My parmcrusted chicken with pasta was best described as an oddtasting piece of cardboard the only saving grace being the perfectlycooked al dente pasta Luckily there was a sizable amount to fill me up as the chicken was essentially inedible We come from a restaurant background and I detest complaining in person But this experience was a true disappointment I hope they figure things out and become the neighborhood gem we so happily anticipated\n",
              "699007                                                                                                        This is where my wifes family ate when she lived in Marlton NJ during her late high school years Now that she is living in the South Jersey area again this is where we eat majority of our mexican cuisine It is not the best mexican food around but it is fresh and it is good My only advise keep it simple Overall I have been ok with the food The only time I left there truly disappointed is when I ordered the tuna tacos Yeah Yeah I know why the hell did I do that in the first place\\n\\nWe dined here for the first time in a long time last Friday on the th Our waitress Brandi was the best waitress we had as long as weve been dining there Dont get me wrong the service is friendly most of the time but Brandi was outstanding \\n\\nI was satisfied with the Baja fish tacos I ordered It clearly made up for the time I ordered the tuna tacos The Quesada we ordered for an appetizer was filled with plenty of chicken and the perfect amount of cheese My wife had the beef tacos and like always she enjoyed them You really cant go wrong with here with majority of things on the menu A fellow Yelper put me on to a few more mexican restaurants in the area but its good to have Mexican Food Factory in my back pocket\n",
              "699022                                                                                                                                                                                                                                                                                                                                                                                                                                                                                                                                                                                                                                                                                                                                                                                                                                                                                                               When you and your partner are craving for different things then this is the place to go He can get his tacos and you can get your Chinese food cravings and then share Tacos were delicious and the red and green sauce not pictured are perfect on the tacos Cant wait to return to try the other meats I was surprised to see orange slices in the orange chicken special Definitely made it even more special and would return back for more\n",
              "Name: text, Length: 73953, dtype: object"
            ]
          },
          "execution_count": 19,
          "metadata": {},
          "output_type": "execute_result"
        }
      ],
      "source": [
        "df_final['text'] = df_final['text'].apply(remover_caracteres)\n",
        "pd.set_option('display.max_colwidth', None)\n",
        "df_final[\"text\"]"
      ]
    },
    {
      "cell_type": "code",
      "execution_count": null,
      "metadata": {
        "id": "Ej49rr2jHACF"
      },
      "outputs": [],
      "source": []
    }
  ],
  "metadata": {
    "colab": {
      "provenance": []
    },
    "kernelspec": {
      "display_name": "Python 3",
      "name": "python3"
    },
    "language_info": {
      "name": "python"
    }
  },
  "nbformat": 4,
  "nbformat_minor": 0
}
>>>>>>> a07820bf3dad47d00756fbdcdef281208591b18e
