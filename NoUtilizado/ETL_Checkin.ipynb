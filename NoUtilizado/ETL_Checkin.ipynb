{
 "cells": [
  {
   "cell_type": "markdown",
   "metadata": {},
   "source": [
    "## ETL Chekin-Yelp"
   ]
  },
  {
   "cell_type": "code",
   "execution_count": 1,
   "metadata": {},
   "outputs": [],
   "source": [
    "# Importamos las librerías a utilizar.\n",
    "import pandas as pd"
   ]
  },
  {
   "cell_type": "code",
   "execution_count": 2,
   "metadata": {},
   "outputs": [],
   "source": [
    "# Leemos el documento \"business\" en formato parquet.\n",
    "business = pd.read_parquet('business.parquet')"
   ]
  },
  {
   "cell_type": "code",
   "execution_count": 3,
   "metadata": {},
   "outputs": [],
   "source": [
    "# Realizamos una máscara para obtener los Id's de los resturantes con la categoría \"steakhouses\".\n",
    "mask_id = business['categories'].str.contains('steakhouses', case=False) == True\n",
    "# Guardamos la máscara en la variable \"steakhouses\" para plicarlo posteriormente.\n",
    "steakhouses = business[mask_id][['business_id']]"
   ]
  },
  {
   "cell_type": "code",
   "execution_count": 5,
   "metadata": {},
   "outputs": [],
   "source": [
    "# Leemos el documento \"chekin\" en formato parquet.\n",
    "chekin = pd.read_parquet('checkin.parquet')"
   ]
  },
  {
   "cell_type": "code",
   "execution_count": 6,
   "metadata": {},
   "outputs": [],
   "source": [
    "# Realizamos una máscara de los Id's de los resturantes con la categoría \"steakhouses\" para la columna business_id en chekin.\n",
    "mask_chekin = chekin['business_id'].isin(steakhouses['business_id'])\n",
    "# Aplicamos la máscara en chekin.\n",
    "chekin = chekin[mask_chekin]"
   ]
  },
  {
   "cell_type": "code",
   "execution_count": 7,
   "metadata": {},
   "outputs": [
    {
     "name": "stdout",
     "output_type": "stream",
     "text": [
      "<class 'pandas.core.frame.DataFrame'>\n",
      "Index: 1494 entries, 28 to 131825\n",
      "Data columns (total 2 columns):\n",
      " #   Column       Non-Null Count  Dtype \n",
      "---  ------       --------------  ----- \n",
      " 0   business_id  1494 non-null   object\n",
      " 1   date         1494 non-null   object\n",
      "dtypes: object(2)\n",
      "memory usage: 35.0+ KB\n"
     ]
    }
   ],
   "source": [
    "# Verificamos si hay valores nulos\n",
    "chekin.info()"
   ]
  },
  {
   "cell_type": "code",
   "execution_count": 8,
   "metadata": {},
   "outputs": [
    {
     "name": "stdout",
     "output_type": "stream",
     "text": [
      "No existen duplicados\n"
     ]
    }
   ],
   "source": [
    "# Verificamos si hay duplicados y los eliminamos\n",
    "duplicados_existen = chekin['business_id'].duplicated().any()\n",
    "\n",
    "if duplicados_existen:\n",
    "    print(\"Existen duplicados\")\n",
    "else:\n",
    "    print(\"No existen duplicados\")\n",
    "\n",
    "# Eliminar duplicados de la columna 'business_id'\n",
    "chekin_sin_duplicados = chekin.drop_duplicates(subset=['business_id'])"
   ]
  },
  {
   "cell_type": "code",
   "execution_count": 9,
   "metadata": {},
   "outputs": [
    {
     "data": {
      "text/html": [
       "<div>\n",
       "<style scoped>\n",
       "    .dataframe tbody tr th:only-of-type {\n",
       "        vertical-align: middle;\n",
       "    }\n",
       "\n",
       "    .dataframe tbody tr th {\n",
       "        vertical-align: top;\n",
       "    }\n",
       "\n",
       "    .dataframe thead th {\n",
       "        text-align: right;\n",
       "    }\n",
       "</style>\n",
       "<table border=\"1\" class=\"dataframe\">\n",
       "  <thead>\n",
       "    <tr style=\"text-align: right;\">\n",
       "      <th></th>\n",
       "      <th>business_id</th>\n",
       "      <th>fechas</th>\n",
       "    </tr>\n",
       "  </thead>\n",
       "  <tbody>\n",
       "    <tr>\n",
       "      <th>0</th>\n",
       "      <td>--onnLZrsCazmcy2P_7fcw</td>\n",
       "      <td>2010-09-26 23:38:02</td>\n",
       "    </tr>\n",
       "    <tr>\n",
       "      <th>1</th>\n",
       "      <td>--onnLZrsCazmcy2P_7fcw</td>\n",
       "      <td>2011-02-01 21:44:51</td>\n",
       "    </tr>\n",
       "    <tr>\n",
       "      <th>2</th>\n",
       "      <td>--onnLZrsCazmcy2P_7fcw</td>\n",
       "      <td>2011-02-27 01:18:19</td>\n",
       "    </tr>\n",
       "    <tr>\n",
       "      <th>3</th>\n",
       "      <td>--onnLZrsCazmcy2P_7fcw</td>\n",
       "      <td>2011-04-06 02:40:34</td>\n",
       "    </tr>\n",
       "    <tr>\n",
       "      <th>4</th>\n",
       "      <td>--onnLZrsCazmcy2P_7fcw</td>\n",
       "      <td>2011-04-15 02:11:59</td>\n",
       "    </tr>\n",
       "  </tbody>\n",
       "</table>\n",
       "</div>"
      ],
      "text/plain": [
       "              business_id                fechas\n",
       "0  --onnLZrsCazmcy2P_7fcw   2010-09-26 23:38:02\n",
       "1  --onnLZrsCazmcy2P_7fcw   2011-02-01 21:44:51\n",
       "2  --onnLZrsCazmcy2P_7fcw   2011-02-27 01:18:19\n",
       "3  --onnLZrsCazmcy2P_7fcw   2011-04-06 02:40:34\n",
       "4  --onnLZrsCazmcy2P_7fcw   2011-04-15 02:11:59"
      ]
     },
     "execution_count": 9,
     "metadata": {},
     "output_type": "execute_result"
    }
   ],
   "source": [
    "# Dividimos las fechas en una columna por comas.\n",
    "chekin['fechas'] = chekin['date'].str.split(',')\n",
    "\n",
    "# Duplicamos las filas para cada fecha con su respectivo ID.\n",
    "chekin=chekin.explode('fechas').reset_index(drop=True)\n",
    "\n",
    "# Eliminamos la columna original.\n",
    "chekin.drop('date',axis=1,inplace=True)\n",
    "\n",
    "# Observamos los cambios en el dataframe.\n",
    "chekin.head(5)"
   ]
  }
 ],
 "metadata": {
  "kernelspec": {
   "display_name": "Python 3",
   "language": "python",
   "name": "python3"
  },
  "language_info": {
   "codemirror_mode": {
    "name": "ipython",
    "version": 3
   },
   "file_extension": ".py",
   "mimetype": "text/x-python",
   "name": "python",
   "nbconvert_exporter": "python",
   "pygments_lexer": "ipython3",
   "version": "3.10.11"
  },
  "orig_nbformat": 2
 },
 "nbformat": 4,
 "nbformat_minor": 2
}
