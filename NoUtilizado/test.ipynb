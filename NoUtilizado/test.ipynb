{
 "cells": [
  {
   "cell_type": "code",
   "execution_count": null,
   "metadata": {},
   "outputs": [],
   "source": [
    "import google.auth\n",
    "from google.cloud import bigquery\n",
    "\n",
    "# Create a credentials object\n",
    "credentials, _ = google.auth.default()\n"
   ]
  },
  {
   "cell_type": "code",
   "execution_count": null,
   "metadata": {},
   "outputs": [],
   "source": [
    "\n",
    "# Create a BigQuery client\n",
    "client = bigquery.Client(credentials=credentials)\n",
    "\n",
    "# # Query a BigQuery table\n",
    "query = \"\"\"\n",
    "SELECT\n",
    "  *\n",
    "FROM\n",
    "  `pghenry-dpt2.yelp.tip`\n",
    "ORDER BY\n",
    "    date\n",
    "DESC\n",
    "LIMIT 1\n",
    "\"\"\"\n",
    "\n",
    "results = client.query(query)\n",
    "\n",
    "# query_job = client.query(\n",
    "#     query,\n",
    "#     # Location must match that of the dataset(s) referenced in the query.\n",
    "#     location=\"US\",\n",
    "# )  # API request - starts the query\n",
    "\n",
    "df = results.to_dataframe()\n",
    "df.date\n",
    "\n",
    "\n",
    "\n",
    "\n",
    "\n"
   ]
  },
  {
   "cell_type": "code",
   "execution_count": null,
   "metadata": {},
   "outputs": [],
   "source": [
    "# Crear tabla audit si no existe\n",
    "schema = [\n",
    "    bigquery.SchemaField(\"date_time\", \"TIMESTAMP\"),\n",
    "    bigquery.SchemaField(\"table_name\", \"STRING\"),\n",
    "    bigquery.SchemaField(\"task_name\", \"STRING\"),\n",
    "    bigquery.SchemaField(\"row_count_start\", \"INT64\"),\n",
    "    bigquery.SchemaField(\"row_count_end\", \"INT64\"),\n",
    "    bigquery.SchemaField(\"last_date_inserted\", \"DATE\")\n",
    "]\n",
    "table_ref = client.dataset(\"google\").table(\"audit\")\n",
    "table = bigquery.Table(table_ref, schema=schema)\n",
    "client.create_table(table, exists_ok=True)\n"
   ]
  },
  {
   "cell_type": "code",
   "execution_count": null,
   "metadata": {},
   "outputs": [],
   "source": [
    "import pandas as pd\n",
    "a = pd.to_datetime(df['date']).dt.date\n",
    "fecha = df.loc[0, 'date'].date()\n",
    "print(fecha)"
   ]
  },
  {
   "cell_type": "code",
   "execution_count": null,
   "metadata": {},
   "outputs": [],
   "source": [
    "for r in results:\n",
    "    print (r.text)"
   ]
  },
  {
   "cell_type": "code",
   "execution_count": null,
   "metadata": {},
   "outputs": [],
   "source": [
    "from datetime import datetime\n",
    "tabla='metadata_sitios'\n",
    "# Crear registro tabla auditoria\n",
    "audit = client.get_table('pghenry-dpt2.google.audit')\n",
    "row = bigquery.Row([datetime.now(), tabla, None, None, 1000], [])\n",
    "client.insert_rows(audit, [row])"
   ]
  },
  {
   "cell_type": "code",
   "execution_count": null,
   "metadata": {},
   "outputs": [],
   "source": [
    "from google.cloud import bigquery\n",
    "# Create a BigQuery client\n",
    "client = bigquery.Client(credentials=credentials)\n",
    "\n",
    "schema = [\n",
    "    bigquery.SchemaField(\"date_time\", \"TIMESTAMP\"),\n",
    "    bigquery.SchemaField(\"table_name\", \"STRING\"),\n",
    "    bigquery.SchemaField(\"task_name\", \"STRING\"),\n",
    "    bigquery.SchemaField(\"row_count_start\", \"INT64\"),\n",
    "    bigquery.SchemaField(\"row_count_end\", \"INT64\"),\n",
    "    bigquery.SchemaField(\"last_date_inserted\", \"DATE\")\n",
    "]\n",
    "\n",
    "table_ref = client.dataset(\"yelp\").table(\"audit\")\n",
    "table = bigquery.Table(table_ref, schema=schema)\n",
    "client.create_table(table, exists_ok=True)"
   ]
  },
  {
   "cell_type": "code",
   "execution_count": null,
   "metadata": {},
   "outputs": [],
   "source": [
    "\n",
    "query = f\"\"\"\n",
    "SELECT\n",
    "  *\n",
    "FROM\n",
    "  {table_ref}\n",
    "ORDER BY\n",
    "    date\n",
    "DESC\n",
    "LIMIT 1\n",
    "\"\"\"\n",
    "\n",
    "\n"
   ]
  },
  {
   "cell_type": "code",
   "execution_count": null,
   "metadata": {},
   "outputs": [],
   "source": [
    "import requests\n",
    "\n",
    "# Reemplaza 'TU_API_KEY' con tu propia clave de API de Yelp\n",
    "api_key = 'oxIAsV-UOX14M1J512kB4o80N5Lv0KdArXsU8GF3kzSazG6dkV4Aqmu2bPndGLDie1Ek5ieYrqbPWkfu5u7hGEN2YMhDho16NLAKET1y9GOx-E2-rpjf-MlEOkQjZXYx'\n",
    "\n",
    "# Define la URL base de la API de Yelp\n",
    "base_url = 'https://api.yelp.com/v3/businesses/search'\n",
    "\n",
    "business_id = 'gebiRewfieSdtt17PTW6Zg'\n",
    "\n",
    "base_url = f'https://api.yelp.com/v3/businesses/{business_id}/reviews'\n",
    "\n",
    "\n",
    "#base_url = f\"https://api.yelp.com/v3/businesses/{business_id}/review_highlights?count=4\"\n",
    "\n",
    "# Parámetros de búsqueda\n",
    "params = {\n",
    "    #'term': 'restaurantes',\n",
    "    #'location': 'Ciudad, País',  # Reemplaza con la ubicación que desees\n",
    "    #'limit': 10,  # Número de resultados a obtener\n",
    "    'offset':5\n",
    "}\n",
    "\n",
    "# Encabezados de la solicitud, incluyendo la clave de API\n",
    "headers = {\n",
    "    'Authorization': f'Bearer {api_key}'\n",
    "}\n",
    "\n",
    "# Realiza la solicitud GET a la API de Yelp\n",
    "response = requests.get(base_url, params=params, headers=headers)\n",
    "\n",
    "\n",
    "\n",
    "\n",
    "# # Verifica si la solicitud fue exitosa\n",
    "# if response.status_code == 200:\n",
    "#     # La respuesta está en formato JSON, puedes acceder a los datos así:\n",
    "#     data = response.json()\n",
    "#     for business in data['businesses']:\n",
    "#         print(f'Nombre: {business[\"name\"]}')\n",
    "#         print(f'Dirección: {business[\"location\"][\"address1\"]}')\n",
    "#         print(f'Teléfono: {business[\"phone\"]}')\n",
    "#         print('---')\n",
    "# else:\n",
    "#     print(f'Error en la solicitud: {response.status_code}')\n",
    "#     print(response.text)\n"
   ]
  },
  {
   "cell_type": "code",
   "execution_count": null,
   "metadata": {},
   "outputs": [],
   "source": [
    "print (response.request.url)"
   ]
  },
  {
   "cell_type": "code",
   "execution_count": null,
   "metadata": {},
   "outputs": [],
   "source": [
    "print(response.json())"
   ]
  },
  {
   "cell_type": "code",
   "execution_count": null,
   "metadata": {},
   "outputs": [],
   "source": [
    "for r in response.json()['reviews']:\n",
    "    print (r)\n",
    "    #print (r['business_id'], r['text'], end='\\n\\n')"
   ]
  },
  {
   "cell_type": "code",
   "execution_count": null,
   "metadata": {},
   "outputs": [],
   "source": [
    "import pandas as pd\n",
    "ruta_bucket = \"gs://bucket-steakhouses\"\n",
    "nombre_archivo = \"review.parquet\"\n",
    "archivo = f'{ruta_bucket}/filtrado/{nombre_archivo}'\n",
    "df = pd.read_parquet(archivo)\n",
    "\n",
    "\n",
    "\n",
    "\n",
    "#df = pd.read_csv(\"gs://bucket-steakhouses/score (1).csv\")"
   ]
  },
  {
   "cell_type": "code",
   "execution_count": null,
   "metadata": {},
   "outputs": [],
   "source": [
    "df.info()\n",
    "df.filter(df[business_id].str.match('8FQAJwYkq5VF37HXm8xGyw'))"
   ]
  },
  {
   "cell_type": "code",
   "execution_count": null,
   "metadata": {},
   "outputs": [],
   "source": [
    "business_id = 'gebiRewfieSdtt17PTW6Zg'\n",
    "df[df['business_id'].str.contains(business_id) ]\n",
    "\n"
   ]
  },
  {
   "cell_type": "code",
   "execution_count": null,
   "metadata": {},
   "outputs": [],
   "source": [
    "\n",
    "review_id = 'MnpOCOLSM5gvQHaOJjxLTA'\n",
    "df[df['review_id'].str.contains(review_id) ]"
   ]
  },
  {
   "cell_type": "code",
   "execution_count": null,
   "metadata": {},
   "outputs": [],
   "source": [
    "import pandas as pd\n",
    "df = pd.read_parquet('/home/ozzy/labs_data/review_2009_12_31.parquet')\n",
    "df.info()\n",
    "df.head()"
   ]
  },
  {
   "cell_type": "code",
   "execution_count": 3,
   "metadata": {},
   "outputs": [
    {
     "name": "stdout",
     "output_type": "stream",
     "text": [
      "[{'review_id': 'X8eWaljG-JbZ-Tp5yDtLeQ', 'user_id': 'cbGXr1EsBbnUsQc_bV3Myw', 'business_id': '4s4KAGJgtpZn9cgtdWcOmw', 'stars': 3, 'useful': 0, 'funny': 0, 'cool': 0, 'text': 'They have made some new changes since the start of the pandemic. Since closing the dining room, they have added a carhop service, picnic tables outside, and...', 'date': '2020-10-01 18:37:38'}, {'review_id': 'Xq-Z3wPlbJ0rZFulIxzWyg', 'user_id': '-370sn3J6t-u5JUTUVujlg', 'business_id': '4s4KAGJgtpZn9cgtdWcOmw', 'stars': 1, 'useful': 0, 'funny': 0, 'cool': 0, 'text': 'Dont do it!!!!!! This place is a joke. They took away dine in and hoped it would speed up their ever-slow drive thru. Let me tell you it did not work........', 'date': '2023-05-01 15:57:26'}, {'review_id': 'dajdRzZvb1mKAlJo3AI-gA', 'user_id': 'Lyi6ZjpLRwLVGhHPzJ8P1Q', 'business_id': '4s4KAGJgtpZn9cgtdWcOmw', 'stars': 1, 'useful': 0, 'funny': 0, 'cool': 0, 'text': \"This is the worst steak n shake I've ever been to! It took 25 minutes to get 2 burgers, 2 fries and a shake.... One of the burgers was missing a huge chunk...\", 'date': '2022-07-17 12:28:57'}, {'review_id': 'JE0StMmnKWJKnw2KW9PHZQ', 'user_id': 'KV3gbm4mnTrkOZYn4xyJEA', 'business_id': 'FN1sLS5hfMydZX94SYD1QA', 'stars': 5, 'useful': 0, 'funny': 0, 'cool': 0, 'text': \"the best cheesesteak I've had in years. traditionally from Md. most restaurants in De are sub par . the cheesesteak was meaty , hot , bread soft , fresh and...\", 'date': '2023-04-20 13:41:06'}, {'review_id': 'I4fAElfhxgHz8OCNp4Y3Wg', 'user_id': '5kB6bJ0D9eXD7gzLPqHVyw', 'business_id': 'FN1sLS5hfMydZX94SYD1QA', 'stars': 2, 'useful': 0, 'funny': 0, 'cool': 0, 'text': 'I really tried to like this place because the original is still incredible but this location is just incredibly bad. Employees arguing with each other over...', 'date': '2023-10-13 18:43:27'}, {'review_id': 'Yw-0orKK468kcyITAdXBIA', 'user_id': 'O_rZRxzPLCjZ7wk6_81MxA', 'business_id': 'FN1sLS5hfMydZX94SYD1QA', 'stars': 1, 'useful': 0, 'funny': 0, 'cool': 0, 'text': 'Misunderstanding turned into loss of customer. They could have cared less about keeping my business. On line ordering is not easy, buyer beware!', 'date': '2023-10-06 19:29:13'}, {'review_id': 'lJ4T8IyRGrhTA9P4N1Bpzg', 'user_id': 'cZOj2TsTx3atbH5M46UY1g', 'business_id': 'uamAUnL4ox5uXvjquY9wLg', 'stars': 5, 'useful': 0, 'funny': 0, 'cool': 0, 'text': 'Dear Mr. Applebees,\\n\\nThe only thing impossible about my burger, was for it to taste good. The consistency of the burger was that of soggy pants. I would...', 'date': '2022-03-31 18:29:13'}, {'review_id': 'NeRrE3O2XYMBYoSbS9ESjw', 'user_id': 'AaMnNcqYhc856G2491sfHg', 'business_id': 'uamAUnL4ox5uXvjquY9wLg', 'stars': 3, 'useful': 0, 'funny': 0, 'cool': 0, 'text': 'Havnt been to this chain in a while. Never really thrilled with anything I order. It was on our way home so we stopped for a steak. It was ok but pricier...', 'date': '2023-02-26 15:26:55'}, {'review_id': 'if-c2KjpE0fZ5Gh6lZ4EPA', 'user_id': 'wkNAye1zJa5UAfx8QOeq7Q', 'business_id': 'uamAUnL4ox5uXvjquY9wLg', 'stars': 5, 'useful': 0, 'funny': 0, 'cool': 0, 'text': 'Went in 33mins after online order on app. Food was ready. Food was good. Portions were good. Quality is good. Location good. Ordered shrimp alfredo fetti....', 'date': '2023-02-25 12:14:03'}]\n"
     ]
    }
   ],
   "source": [
    "from ETL.Functions.api_yelp import *\n",
    "\n",
    "business = ['4s4KAGJgtpZn9cgtdWcOmw', 'FN1sLS5hfMydZX94SYD1QA', 'uamAUnL4ox5uXvjquY9wLg']\n",
    "reviews = []\n",
    "for business_id in business:\n",
    "    reviews += API_reviews(business_id)\n",
    "\n",
    "print (reviews)"
   ]
  },
  {
   "cell_type": "code",
   "execution_count": 4,
   "metadata": {},
   "outputs": [],
   "source": [
    "import pandas as pd\n",
    "\n",
    "dfy = pd.DataFrame(reviews)"
   ]
  },
  {
   "cell_type": "code",
   "execution_count": null,
   "metadata": {},
   "outputs": [],
   "source": [
    "dfy.info()"
   ]
  },
  {
   "cell_type": "code",
   "execution_count": null,
   "metadata": {},
   "outputs": [],
   "source": [
    "# ruta_bucket = \"gs://bucket-steakhouses\"\n",
    "# nombre_archivo = \"review.parquet\"\n",
    "# archivo = f'{ruta_bucket}/filtrado/{nombre_archivo}'\n",
    "# dfnube = pd.read_parquet(archivo, columns=['review_id'])\n"
   ]
  },
  {
   "cell_type": "code",
   "execution_count": 2,
   "metadata": {},
   "outputs": [],
   "source": [
    "import pandas as pd\n",
    "import google.auth\n",
    "from google.cloud import bigquery\n",
    "\n",
    "# Create a credentials object\n",
    "credentials, _ = google.auth.default()\n",
    "# Create a BigQuery client\n",
    "client = bigquery.Client(credentials=credentials)\n",
    "#table_ref = client.dataset('yelp').table('review')\n",
    "sql = 'SELECT review_id FROM yelp.review'\n",
    "df_rbq = client.query(sql).result().to_dataframe()\n",
    "\n"
   ]
  },
  {
   "cell_type": "code",
   "execution_count": 14,
   "metadata": {},
   "outputs": [
    {
     "name": "stdout",
     "output_type": "stream",
     "text": [
      "x\n"
     ]
    }
   ],
   "source": [
    "sql = \"\"\"SELECT aditional_value \n",
    "            FROM `steakhouses2.yelp.audit` \n",
    "            WHERE table_name='review' AND aditional_value IS NOT NULL\n",
    "            ORDER BY date_time DESC\n",
    "            LIMIT 1 \n",
    "    \"\"\"\n",
    "\n",
    "r  = client.query(sql).result()\n",
    "\n",
    "ultimo_negocio = r.to_dataframe().iloc[0]['aditional_value'] if r.total_rows==1 else None\n"
   ]
  },
  {
   "cell_type": "code",
   "execution_count": null,
   "metadata": {},
   "outputs": [],
   "source": [
    "df_rbq.info()"
   ]
  },
  {
   "cell_type": "code",
   "execution_count": null,
   "metadata": {},
   "outputs": [],
   "source": [
    "nuevas =  dfy.loc[~dfy['review_id'].isin(df_rbq['review_id']), 'review_id']\n",
    "print (nuevas)"
   ]
  }
 ],
 "metadata": {
  "kernelspec": {
   "display_name": "Python 3",
   "language": "python",
   "name": "python3"
  },
  "language_info": {
   "codemirror_mode": {
    "name": "ipython",
    "version": 3
   },
   "file_extension": ".py",
   "mimetype": "text/x-python",
   "name": "python",
   "nbconvert_exporter": "python",
   "pygments_lexer": "ipython3",
   "version": "3.10.12"
  },
  "orig_nbformat": 4
 },
 "nbformat": 4,
 "nbformat_minor": 2
}
